{
  "nbformat": 4,
  "nbformat_minor": 0,
  "metadata": {
    "colab": {
      "provenance": [],
      "authorship_tag": "ABX9TyMOfl96SRQlt2zKbcmbBToO",
      "include_colab_link": true
    },
    "kernelspec": {
      "name": "python3",
      "display_name": "Python 3"
    },
    "language_info": {
      "name": "python"
    }
  },
  "cells": [
    {
      "cell_type": "markdown",
      "metadata": {
        "id": "view-in-github",
        "colab_type": "text"
      },
      "source": [
        "<a href=\"https://colab.research.google.com/github/sidonge/gitsession22/blob/master/%EC%86%8C%EA%B3%B5_%EA%B0%9D%EC%B2%B4%EC%A7%80%ED%96%A52_%EC%8B%A4%EC%8A%B5.ipynb\" target=\"_parent\"><img src=\"https://colab.research.google.com/assets/colab-badge.svg\" alt=\"Open In Colab\"/></a>"
      ]
    },
    {
      "cell_type": "code",
      "execution_count": 8,
      "metadata": {
        "colab": {
          "base_uri": "https://localhost:8080/"
        },
        "id": "i-TZzs3fB0uT",
        "outputId": "64a8aba2-4ad5-4fed-fb22-eee0a67423bd"
      },
      "outputs": [
        {
          "output_type": "stream",
          "name": "stdout",
          "text": [
            "Sorted list: [1, 2, 3, 4, 5, 6, 7, 8]\n"
          ]
        }
      ],
      "source": [
        "class Client:\n",
        "  def __init__(self):\n",
        "    self.sortEngine = InsertionSort()\n",
        "\n",
        "  def SortArray(self, list):\n",
        "    self.sortEngine.Sort(list)\n",
        "\n",
        "class SortAlgorithm:\n",
        "  def Sort(self, list):\n",
        "    pass\n",
        "\n",
        "class InsertionSort(SortAlgorithm):\n",
        "  def Sort(self, list):\n",
        "        for i in range(1, len(list)):\n",
        "            key = list[i]\n",
        "            j = i - 1\n",
        "            while j >= 0 and list[j] > key:\n",
        "                list[j + 1] = list[j]\n",
        "                j -= 1\n",
        "            list[j + 1] = key\n",
        "        print(\"Sorted list:\", list)\n",
        "\n",
        "c = Client()\n",
        "list = [1,2,4,3,6,8,7,5]\n",
        "c.SortArray(list)"
      ]
    },
    {
      "cell_type": "code",
      "source": [
        "class Client:\n",
        "  def __init__(self, sortEngine):\n",
        "    self.sortEngine = sortEngine\n",
        "\n",
        "  def SortArray(self, list):\n",
        "    self.sortEngine.Sort(list)\n",
        "\n",
        "class SortAlgorithm:\n",
        "  def Sort(self, list):\n",
        "    pass\n",
        "\n",
        "class InsertionSort(SortAlgorithm):\n",
        "  def Sort(self, list):\n",
        "        for i in range(1, len(list)):\n",
        "            key = list[i]\n",
        "            j = i - 1\n",
        "            while j >= 0 and list[j] > key:\n",
        "                list[j + 1] = list[j]\n",
        "                j -= 1\n",
        "            list[j + 1] = key\n",
        "        print(\"Sorted list:\", list)\n",
        "\n",
        "class Config:\n",
        "  def create_client():\n",
        "        sort_engine = InsertionSort()\n",
        "        return Client(sort_engine)\n",
        "\n",
        "c = Config.create_client()\n",
        "list = [1,2,4,3,6,8,7,5]\n",
        "c.SortArray(list)\n"
      ],
      "metadata": {
        "colab": {
          "base_uri": "https://localhost:8080/"
        },
        "id": "e8oN7F9eGNB-",
        "outputId": "8b4967ef-be9f-4976-d7a5-94bc8c069e12"
      },
      "execution_count": 11,
      "outputs": [
        {
          "output_type": "stream",
          "name": "stdout",
          "text": [
            "Sorted list: [1, 2, 3, 4, 5, 6, 7, 8]\n"
          ]
        }
      ]
    }
  ]
}